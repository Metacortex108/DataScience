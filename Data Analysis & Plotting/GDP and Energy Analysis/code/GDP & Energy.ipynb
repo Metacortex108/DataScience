{
 "cells": [
  {
   "cell_type": "markdown",
   "metadata": {},
   "source": [
    "***\n",
    "**Exploratory Data Analysis of GDPs & Nations' Energy supplies/production.**\n",
    "***"
   ]
  },
  {
   "cell_type": "markdown",
   "metadata": {},
   "source": [
    "### Datasets:\n",
    "1. Load the energy data from the file `Energy Indicators.xls`, which is a list of indicators of [energy supply and renewable electricity production](Energy%20Indicators.xls) from the [United Nations](http://unstats.un.org/unsd/environment/excel_file_tables/2013/Energy%20Indicators.xls) for the year 2013.\n",
    "\n",
    "2. Next, load the GDP data from the file `world_bank.csv`, which is a csv containing countries' GDP from 1960 to 2015 from [World Bank](http://data.worldbank.org/indicator/NY.GDP.MKTP.CD).\n",
    "\n",
    "3. Finally, load the [Sciamgo Journal and Country Rank data for Energy Engineering and Power Technology](http://www.scimagojr.com/countryrank.php?category=2102) from the file `scimagojr-3.xlsx`, which ranks countries based on their journal contributions in the aforementioned area."
   ]
  },
  {
   "cell_type": "code",
   "execution_count": 1,
   "metadata": {},
   "outputs": [],
   "source": [
    "import pandas as pd\n",
    "import numpy as np\n",
    "import re"
   ]
  },
  {
   "cell_type": "code",
   "execution_count": 2,
   "metadata": {},
   "outputs": [],
   "source": [
    "'''Renaming some countries in the Energy DF and cleaning up parenthesis etc.'''\n",
    "def cleanEnergyDF(row):\n",
    "    if row['Country'] == 'Republic of Korea':\n",
    "        row['Country'] = 'South Korea'\n",
    "    elif row['Country'].find('United States of America') != -1:\n",
    "        row['Country'] = 'United States'\n",
    "    elif row['Country'].find('United Kingdom of Great Britain and Northern Ireland') != -1:\n",
    "        row['Country'] = 'United Kingdom'   \n",
    "    elif row['Country'].find('China, Hong Kong Special Administrative Region') != -1:\n",
    "        row['Country'] = 'Hong Kong'  \n",
    "    row['Country'] =  re.sub('\\(.*\\)', '', row['Country'])   \n",
    "    row['Country'] =  re.sub('[0-9]+', '', row['Country'])\n",
    "    row['Country'] =  re.sub('\\s+$', '', row['Country'])\n",
    "    return row  "
   ]
  },
  {
   "cell_type": "code",
   "execution_count": 3,
   "metadata": {},
   "outputs": [],
   "source": [
    "'''Renaming some countries in the GDP DF and cleaning up parenthesis etc.'''\n",
    "def cleanGDP_DF(row):\n",
    "    if row['Country'].find('Korea, Rep.') != -1:\n",
    "        row['Country'] = 'South Korea'\n",
    "    elif row['Country'].find('Iran, Islamic Rep.') != -1:\n",
    "        row['Country'] = 'Iran'\n",
    "    elif row['Country'].find('Hong Kong SAR, China') != -1:\n",
    "        row['Country'] = 'Hong Kong' \n",
    "        \n",
    "    row['Country'] =  re.sub('\\(.*\\)', '', row['Country'])   \n",
    "    row['Country'] =  re.sub('[0-9]+', '', row['Country'])\n",
    "    row['Country'] =  re.sub('\\s+$', '', row['Country'])\n",
    "\n",
    "    return row  "
   ]
  },
  {
   "cell_type": "code",
   "execution_count": 4,
   "metadata": {},
   "outputs": [],
   "source": [
    "def loadData():\n",
    "    energy=pd.read_excel('Energy Indicators.xls', usecols=['Country', 'Energy Supply', 'Energy Supply per capita', 'Renewable Electricity Production'],              \n",
    "                     header=9,skipfooter=38, skiprows=[10,11,12,13,14,15,16,17]) \n",
    "    energy.columns=['Country', 'Energy Supply', 'Energy Supply per Capita', '% Renewable']\n",
    "    energy.replace('...', np.NaN,inplace=True)\n",
    "    energy['Energy Supply'] = energy['Energy Supply']*1000000\n",
    "    energy=energy.apply(cleanEnergyDF, axis=1)\n",
    "    \n",
    "    GDP=pd.read_csv('world_bank.csv', header=4,\n",
    "                usecols=['Country Name','2006','2007','2008','2009',\n",
    "                        '2010','2011','2012','2013','2014','2015'])\n",
    "    GDP.rename(columns={'Country Name':'Country'}, inplace=True)\n",
    "    GDP=GDP.apply(cleanGDP_DF, axis=1)\n",
    "    ScimEn = pd.read_excel('scimagojr-3.xlsx')\n",
    "    \n",
    "    SciEneGDPFull=pd.merge(pd.merge(ScimEn,energy, how='inner', left_on ='Country' , right_on ='Country'), \n",
    "                   GDP,  how='inner', left_on ='Country' , right_on ='Country')\n",
    "    SciEneGDP=SciEneGDPFull[SciEneGDPFull['Rank']<16]\n",
    "    SciEneGDP.set_index('Country', inplace=True)    \n",
    "    return SciEneGDP"
   ]
  },
  {
   "cell_type": "code",
   "execution_count": 5,
   "metadata": {},
   "outputs": [
    {
     "data": {
      "text/plain": [
       "Country\n",
       "United States         1.536434e+13\n",
       "China                 6.348609e+12\n",
       "Japan                 5.542208e+12\n",
       "Germany               3.493025e+12\n",
       "France                2.681725e+12\n",
       "United Kingdom        2.487907e+12\n",
       "Brazil                2.189794e+12\n",
       "Italy                 2.120175e+12\n",
       "India                 1.769297e+12\n",
       "Canada                1.660647e+12\n",
       "Russian Federation    1.565459e+12\n",
       "Spain                 1.418078e+12\n",
       "Australia             1.164043e+12\n",
       "South Korea           1.106715e+12\n",
       "Iran                           NaN\n",
       "dtype: float64"
      ]
     },
     "execution_count": 5,
     "metadata": {},
     "output_type": "execute_result"
    }
   ],
   "source": [
    "# Average GDP over the last 10 years for each country (top 15 countries)\n",
    "Top15 = loadData()\n",
    "row=['2006','2007','2008','2009','2010','2011','2012','2013','2014','2015']\n",
    "avgGDP = Top15.apply(lambda x: np.average(x[row]), axis=1).sort_values(ascending=False)\n",
    "avgGDP"
   ]
  },
  {
   "cell_type": "code",
   "execution_count": 6,
   "metadata": {},
   "outputs": [
    {
     "data": {
      "text/html": [
       "<div>\n",
       "<style scoped>\n",
       "    .dataframe tbody tr th:only-of-type {\n",
       "        vertical-align: middle;\n",
       "    }\n",
       "\n",
       "    .dataframe tbody tr th {\n",
       "        vertical-align: top;\n",
       "    }\n",
       "\n",
       "    .dataframe thead th {\n",
       "        text-align: right;\n",
       "    }\n",
       "</style>\n",
       "<table border=\"1\" class=\"dataframe\">\n",
       "  <thead>\n",
       "    <tr style=\"text-align: right;\">\n",
       "      <th></th>\n",
       "      <th>diff</th>\n",
       "    </tr>\n",
       "    <tr>\n",
       "      <th>Country</th>\n",
       "      <th></th>\n",
       "    </tr>\n",
       "  </thead>\n",
       "  <tbody>\n",
       "    <tr>\n",
       "      <th>China</th>\n",
       "      <td>4.805667e+12</td>\n",
       "    </tr>\n",
       "    <tr>\n",
       "      <th>United States</th>\n",
       "      <td>1.953731e+12</td>\n",
       "    </tr>\n",
       "    <tr>\n",
       "      <th>Japan</th>\n",
       "      <td>4.182547e+11</td>\n",
       "    </tr>\n",
       "    <tr>\n",
       "      <th>United Kingdom</th>\n",
       "      <td>2.992858e+11</td>\n",
       "    </tr>\n",
       "    <tr>\n",
       "      <th>Russian Federation</th>\n",
       "      <td>2.929162e+11</td>\n",
       "    </tr>\n",
       "    <tr>\n",
       "      <th>Canada</th>\n",
       "      <td>2.281399e+11</td>\n",
       "    </tr>\n",
       "    <tr>\n",
       "      <th>Germany</th>\n",
       "      <td>4.022160e+11</td>\n",
       "    </tr>\n",
       "    <tr>\n",
       "      <th>India</th>\n",
       "      <td>1.101312e+12</td>\n",
       "    </tr>\n",
       "    <tr>\n",
       "      <th>France</th>\n",
       "      <td>1.652185e+11</td>\n",
       "    </tr>\n",
       "    <tr>\n",
       "      <th>South Korea</th>\n",
       "      <td>3.255605e+11</td>\n",
       "    </tr>\n",
       "    <tr>\n",
       "      <th>Italy</th>\n",
       "      <td>2.007591e+11</td>\n",
       "    </tr>\n",
       "    <tr>\n",
       "      <th>Spain</th>\n",
       "      <td>1.273907e+11</td>\n",
       "    </tr>\n",
       "    <tr>\n",
       "      <th>Iran</th>\n",
       "      <td>9.577859e+10</td>\n",
       "    </tr>\n",
       "    <tr>\n",
       "      <th>Australia</th>\n",
       "      <td>2.793118e+11</td>\n",
       "    </tr>\n",
       "    <tr>\n",
       "      <th>Brazil</th>\n",
       "      <td>5.671510e+11</td>\n",
       "    </tr>\n",
       "  </tbody>\n",
       "</table>\n",
       "</div>"
      ],
      "text/plain": [
       "                            diff\n",
       "Country                         \n",
       "China               4.805667e+12\n",
       "United States       1.953731e+12\n",
       "Japan               4.182547e+11\n",
       "United Kingdom      2.992858e+11\n",
       "Russian Federation  2.929162e+11\n",
       "Canada              2.281399e+11\n",
       "Germany             4.022160e+11\n",
       "India               1.101312e+12\n",
       "France              1.652185e+11\n",
       "South Korea         3.255605e+11\n",
       "Italy               2.007591e+11\n",
       "Spain               1.273907e+11\n",
       "Iran                9.577859e+10\n",
       "Australia           2.793118e+11\n",
       "Brazil              5.671510e+11"
      ]
     },
     "execution_count": 6,
     "metadata": {},
     "output_type": "execute_result"
    }
   ],
   "source": [
    "#By how much had the GDP changed over the 10 year span for the top 15 countries\n",
    "def min_max(row):\n",
    "    data = row[['2006','2007','2008','2009','2010','2011','2012','2013','2014','2015']]\n",
    "    return pd.Series({'diff':np.max(data) - np.min(data)})\n",
    "Top15.apply(min_max, axis=1)"
   ]
  },
  {
   "cell_type": "code",
   "execution_count": 7,
   "metadata": {},
   "outputs": [
    {
     "data": {
      "text/plain": [
       "157.6"
      ]
     },
     "execution_count": 7,
     "metadata": {},
     "output_type": "execute_result"
    }
   ],
   "source": [
    "# Mean Energy Supply per Capita\n",
    "np.mean(Top15['Energy Supply per Capita'])"
   ]
  },
  {
   "cell_type": "code",
   "execution_count": 8,
   "metadata": {},
   "outputs": [
    {
     "data": {
      "text/plain": [
       "('Brazil', 69.64803)"
      ]
     },
     "execution_count": 8,
     "metadata": {},
     "output_type": "execute_result"
    }
   ],
   "source": [
    "# Country with the maximum % Renewable evergy and the value:\n",
    "Top15[Top15['% Renewable']==np.max(Top15['% Renewable'])].index[0],np.max(Top15['% Renewable'])"
   ]
  },
  {
   "cell_type": "code",
   "execution_count": 9,
   "metadata": {},
   "outputs": [
    {
     "data": {
      "text/plain": [
       "('China', 0.6893126179389422)"
      ]
     },
     "execution_count": 9,
     "metadata": {},
     "output_type": "execute_result"
    }
   ],
   "source": [
    "# Country has the highest ratio of Self-Citations to Total Citations\n",
    "Top15['Self-Total'] = Top15[\"Self-citations\"] / Top15[\"Citations\"]\n",
    "Top15['Self-Total'].idxmax(), Top15['Self-Total'].max()"
   ]
  },
  {
   "cell_type": "code",
   "execution_count": 10,
   "metadata": {},
   "outputs": [
    {
     "data": {
      "text/plain": [
       "'United States'"
      ]
     },
     "execution_count": 10,
     "metadata": {},
     "output_type": "execute_result"
    }
   ],
   "source": [
    "# Third most populous country according to the population using Energy Supply and Energy Supply per capita.\n",
    "Top15['Population'] = Top15['Energy Supply'] / Top15['Energy Supply per Capita']\n",
    "Top15.sort_values(by='Population', ascending=False).index[2]"
   ]
  },
  {
   "cell_type": "code",
   "execution_count": 11,
   "metadata": {},
   "outputs": [
    {
     "data": {
      "text/plain": [
       "0.7940010435442943"
      ]
     },
     "execution_count": 11,
     "metadata": {},
     "output_type": "execute_result"
    }
   ],
   "source": [
    "# Correlation between the number of citable documents per capita and the energy supply per capita.\n",
    "Top15['Population'] = Top15['Energy Supply'] / Top15['Energy Supply per Capita']\n",
    "Top15['citable documents per capita'] = Top15['Citable documents'] / Top15['Population'] \n",
    "Top15.corr(method ='pearson').loc['citable documents per capita','Energy Supply per Capita']"
   ]
  },
  {
   "cell_type": "code",
   "execution_count": 12,
   "metadata": {},
   "outputs": [
    {
     "data": {
      "text/html": [
       "<div>\n",
       "<style scoped>\n",
       "    .dataframe tbody tr th:only-of-type {\n",
       "        vertical-align: middle;\n",
       "    }\n",
       "\n",
       "    .dataframe tbody tr th {\n",
       "        vertical-align: top;\n",
       "    }\n",
       "\n",
       "    .dataframe thead th {\n",
       "        text-align: right;\n",
       "    }\n",
       "</style>\n",
       "<table border=\"1\" class=\"dataframe\">\n",
       "  <thead>\n",
       "    <tr style=\"text-align: right;\">\n",
       "      <th></th>\n",
       "      <th>size</th>\n",
       "      <th>sum</th>\n",
       "      <th>mean</th>\n",
       "      <th>std</th>\n",
       "    </tr>\n",
       "  </thead>\n",
       "  <tbody>\n",
       "    <tr>\n",
       "      <th>Asia</th>\n",
       "      <td>5.0</td>\n",
       "      <td>2.898666e+09</td>\n",
       "      <td>5.797333e+08</td>\n",
       "      <td>6.074036e+08</td>\n",
       "    </tr>\n",
       "    <tr>\n",
       "      <th>Australia</th>\n",
       "      <td>1.0</td>\n",
       "      <td>2.331602e+07</td>\n",
       "      <td>2.331602e+07</td>\n",
       "      <td>0.000000e+00</td>\n",
       "    </tr>\n",
       "    <tr>\n",
       "      <th>Europe</th>\n",
       "      <td>6.0</td>\n",
       "      <td>4.579297e+08</td>\n",
       "      <td>7.632161e+07</td>\n",
       "      <td>3.162885e+07</td>\n",
       "    </tr>\n",
       "    <tr>\n",
       "      <th>North America</th>\n",
       "      <td>2.0</td>\n",
       "      <td>3.528552e+08</td>\n",
       "      <td>1.764276e+08</td>\n",
       "      <td>1.411878e+08</td>\n",
       "    </tr>\n",
       "    <tr>\n",
       "      <th>South America</th>\n",
       "      <td>1.0</td>\n",
       "      <td>2.059153e+08</td>\n",
       "      <td>2.059153e+08</td>\n",
       "      <td>0.000000e+00</td>\n",
       "    </tr>\n",
       "  </tbody>\n",
       "</table>\n",
       "</div>"
      ],
      "text/plain": [
       "               size           sum          mean           std\n",
       "Asia            5.0  2.898666e+09  5.797333e+08  6.074036e+08\n",
       "Australia       1.0  2.331602e+07  2.331602e+07  0.000000e+00\n",
       "Europe          6.0  4.579297e+08  7.632161e+07  3.162885e+07\n",
       "North America   2.0  3.528552e+08  1.764276e+08  1.411878e+08\n",
       "South America   1.0  2.059153e+08  2.059153e+08  0.000000e+00"
      ]
     },
     "execution_count": 12,
     "metadata": {},
     "output_type": "execute_result"
    }
   ],
   "source": [
    "# Display the sample size (the number of countries in each continent bin), and the sum, mean, and std deviation for the \n",
    "# estimated population of each country.\n",
    "ContinentDict  = {'China':'Asia', \n",
    "                  'United States':'North America', \n",
    "                  'Japan':'Asia', \n",
    "                  'United Kingdom':'Europe', \n",
    "                  'Russian Federation':'Europe', \n",
    "                  'Canada':'North America', \n",
    "                  'Germany':'Europe', \n",
    "                  'India':'Asia',\n",
    "                  'France':'Europe', \n",
    "                  'South Korea':'Asia', \n",
    "                  'Italy':'Europe', \n",
    "                  'Spain':'Europe', \n",
    "                  'Iran':'Asia',\n",
    "                  'Australia':'Australia', \n",
    "                  'Brazil':'South America'}\n",
    "finalDF = pd.DataFrame(columns=['size', 'sum', 'mean', 'std'])\n",
    "Top15['Population'] = Top15['Energy Supply'] / Top15['Energy Supply per Capita']\n",
    "Top15grp=Top15.groupby(ContinentDict)\n",
    "for grp,frame in Top15grp:\n",
    "    finalDF.loc[grp]=[len(frame), np.sum(frame['Population']), np.mean(frame['Population']), np.std(frame['Population'])]\n",
    "finalDF"
   ]
  },
  {
   "cell_type": "code",
   "execution_count": 13,
   "metadata": {},
   "outputs": [
    {
     "data": {
      "text/plain": [
       "               % Renewable     \n",
       "Asia           (2.212, 15.753]     4\n",
       "               (15.753, 29.227]    1\n",
       "               (29.227, 42.701]    0\n",
       "               (42.701, 56.174]    0\n",
       "               (56.174, 69.648]    0\n",
       "Australia      (2.212, 15.753]     1\n",
       "               (15.753, 29.227]    0\n",
       "               (29.227, 42.701]    0\n",
       "               (42.701, 56.174]    0\n",
       "               (56.174, 69.648]    0\n",
       "Europe         (2.212, 15.753]     1\n",
       "               (15.753, 29.227]    3\n",
       "               (29.227, 42.701]    2\n",
       "               (42.701, 56.174]    0\n",
       "               (56.174, 69.648]    0\n",
       "North America  (2.212, 15.753]     1\n",
       "               (15.753, 29.227]    0\n",
       "               (29.227, 42.701]    0\n",
       "               (42.701, 56.174]    0\n",
       "               (56.174, 69.648]    1\n",
       "South America  (2.212, 15.753]     0\n",
       "               (15.753, 29.227]    0\n",
       "               (29.227, 42.701]    0\n",
       "               (42.701, 56.174]    0\n",
       "               (56.174, 69.648]    1\n",
       "dtype: int64"
      ]
     },
     "execution_count": 13,
     "metadata": {},
     "output_type": "execute_result"
    }
   ],
   "source": [
    "# Cut % Renewable into 5 bins. Group Top15 by the Continent, as well as these new % Renewable bins.\n",
    "ContinentDict  = {'China':'Asia', \n",
    "                  'United States':'North America', \n",
    "                  'Japan':'Asia', \n",
    "                  'United Kingdom':'Europe', \n",
    "                  'Russian Federation':'Europe', \n",
    "                  'Canada':'North America', \n",
    "                  'Germany':'Europe', \n",
    "                  'India':'Asia',\n",
    "                  'France':'Europe', \n",
    "                  'South Korea':'Asia', \n",
    "                  'Italy':'Europe', \n",
    "                  'Spain':'Europe', \n",
    "                  'Iran':'Asia',\n",
    "                  'Australia':'Australia', \n",
    "                  'Brazil':'South America'}    \n",
    "Top15Cut=pd.cut(Top15['% Renewable'],5)\n",
    "grp=Top15.groupby([ContinentDict,Top15Cut])\n",
    "grp.size()"
   ]
  },
  {
   "cell_type": "code",
   "execution_count": 14,
   "metadata": {},
   "outputs": [
    {
     "data": {
      "text/plain": [
       "Country\n",
       "China                 1,367,645,161.2903225\n",
       "United States          317,615,384.61538464\n",
       "Japan                  127,409,395.97315437\n",
       "United Kingdom         63,870,967.741935484\n",
       "Russian Federation            143,500,000.0\n",
       "Canada                  35,239,864.86486486\n",
       "Germany                 80,369,696.96969697\n",
       "India                 1,276,730,769.2307692\n",
       "France                  63,837,349.39759036\n",
       "South Korea            49,805,429.864253394\n",
       "Italy                  59,908,256.880733944\n",
       "Spain                    46,443,396.2264151\n",
       "Iran                    77,075,630.25210084\n",
       "Australia              23,316,017.316017315\n",
       "Brazil                 205,915,254.23728815\n",
       "Name: PopEst, dtype: object"
      ]
     },
     "execution_count": 14,
     "metadata": {},
     "output_type": "execute_result"
    }
   ],
   "source": [
    "# Convert the Population Estimate series to a string with thousands separator (using commas)\n",
    "Top15['Population'] = Top15['Energy Supply'] / Top15['Energy Supply per Capita']\n",
    "Top15['Population']= Top15['Population'].apply(lambda x: f'{x:,}')\n",
    "Top15['Population'].rename('PopEst')"
   ]
  },
  {
   "cell_type": "code",
   "execution_count": 15,
   "metadata": {},
   "outputs": [],
   "source": [
    "def plot_bubbles():\n",
    "    import matplotlib as plt\n",
    "    %matplotlib inline\n",
    "    ax = Top15.plot(x='Rank', y='% Renewable', kind='scatter', \n",
    "                    c=['#e41a1c','#377eb8','#e41a1c','#4daf4a','#4daf4a','#377eb8','#4daf4a','#e41a1c',\n",
    "                       '#4daf4a','#e41a1c','#4daf4a','#4daf4a','#e41a1c','#dede00','#ff7f00'], \n",
    "                    xticks=range(1,16), s=6*Top15['2014']/10**10, alpha=.75, figsize=[16,6]);\n",
    "\n",
    "    for i, txt in enumerate(Top15.index):\n",
    "        ax.annotate(txt, [Top15['Rank'][i], Top15['% Renewable'][i]], ha='center')\n",
    "\n",
    "    print(\"This is a bubble chart showing % Renewable vs. Rank. \\\n",
    "The size of the bubble corresponds to the countries' \\\n",
    "2014 GDP, and the color corresponds to the continent.\")"
   ]
  },
  {
   "cell_type": "code",
   "execution_count": 16,
   "metadata": {},
   "outputs": [
    {
     "name": "stdout",
     "output_type": "stream",
     "text": [
      "This is a bubble chart showing % Renewable vs. Rank. The size of the bubble corresponds to the countries' 2014 GDP, and the color corresponds to the continent.\n"
     ]
    },
    {
     "data": {
      "image/png": "[encoded data removed]",
      "text/plain": [
       "<Figure size 1152x432 with 1 Axes>"
      ]
     },
     "metadata": {
      "needs_background": "light"
     },
     "output_type": "display_data"
    }
   ],
   "source": [
    "plot_bubbles()"
   ]
  }
 ],
 "metadata": {
  "kernelspec": {
   "display_name": "Python 3",
   "language": "python",
   "name": "python3"
  },
  "language_info": {
   "codemirror_mode": {
    "name": "ipython",
    "version": 3
   },
   "file_extension": ".py",
   "mimetype": "text/x-python",
   "name": "python",
   "nbconvert_exporter": "python",
   "pygments_lexer": "ipython3",
   "version": "3.7.7"
  }
 },
 "nbformat": 4,
 "nbformat_minor": 4
}
