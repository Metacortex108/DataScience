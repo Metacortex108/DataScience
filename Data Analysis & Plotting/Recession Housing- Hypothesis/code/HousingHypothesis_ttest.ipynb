{
 "cells": [
  {
   "cell_type": "markdown",
   "metadata": {},
   "source": [
    "**Definitions:**\n",
    "* A _quarter_ is a specific three month period, Q1 is January through March, Q2 is April through June, Q3 is July through September, Q4 is October through December.\n",
    "* A _recession_ is defined as starting with two consecutive quarters of GDP decline, and ending with two consecutive quarters of GDP growth.\n",
    "* A _recession bottom_ is the quarter within a recession which had the lowest GDP.\n",
    "* A _university town_ is a city which has a high percentage of university students compared to the total population of the city.\n",
    "\n",
    "**Hypothesis**: University towns have their mean housing prices less effected by recessions. We will run a t-test to compare the ratio of the mean price of houses in university towns the quarter before the recession starts compared to the recession bottom. (`price_ratio=quarter_before_recession/recession_bottom`)\n",
    "\n",
    "The following data files are available for data wrangling.These files are from a specific point in time, websites get regular updates. Ideal to use the files availabe in my repository.\n",
    "* From the [Zillow research data site](http://www.zillow.com/research/data/) there is housing data for the United States. In particular the datafile for [all homes at a city level](http://files.zillowstatic.com/research/public/City/City_Zhvi_AllHomes.csv), ```City_Zhvi_AllHomes.csv```, has median home sale prices at a fine grained level.\n",
    "* From the Wikipedia page on college towns is a list of [university towns in the United States](https://en.wikipedia.org/wiki/List_of_college_towns#College_towns_in_the_United_States) which has been copy and pasted into the file ```university_towns.txt```.\n",
    "* From Bureau of Economic Analysis, US Department of Commerce, the [GDP over time](http://www.bea.gov/national/index.htm#gdp) of the United States in current dollars (we will use the chained value in 2009 dollars), in quarterly intervals, in the file ```gdplev.xls```. For this hypothesis, we will only look at GDP data from the first quarter of 2000 onwards."
   ]
  },
  {
   "cell_type": "code",
   "execution_count": 33,
   "metadata": {},
   "outputs": [],
   "source": [
    "import pandas as pd\n",
    "import numpy as np\n",
    "import re\n",
    "from scipy.stats import ttest_ind\n",
    "\n",
    "pd.set_option('display.max_rows', 1000)\n",
    "pd.set_option('display.max_columns', 300)\n",
    "\n",
    "# This dictionary to map state names to two letter acronyms\n",
    "states = {'OH': 'Ohio', 'KY': 'Kentucky', 'AS': 'American Samoa', 'NV': 'Nevada', 'WY': 'Wyoming', 'NA': 'National', \n",
    "          'AL': 'Alabama', 'MD': 'Maryland', 'AK': 'Alaska', 'UT': 'Utah', 'OR': 'Oregon', 'MT': 'Montana', 'IL': 'Illinois',\n",
    "          'TN': 'Tennessee', 'DC': 'District of Columbia', 'VT': 'Vermont', 'ID': 'Idaho', 'AR': 'Arkansas', 'ME': 'Maine', \n",
    "          'WA': 'Washington', 'HI': 'Hawaii', 'WI': 'Wisconsin', 'MI': 'Michigan', 'IN': 'Indiana', 'NJ': 'New Jersey', \n",
    "          'AZ': 'Arizona', 'GU': 'Guam', 'MS': 'Mississippi', 'PR': 'Puerto Rico', 'NC': 'North Carolina', 'TX': 'Texas', \n",
    "          'SD': 'South Dakota', 'MP': 'Northern Mariana Islands', 'IA': 'Iowa', 'MO': 'Missouri', 'CT': 'Connecticut', \n",
    "          'WV': 'West Virginia', 'SC': 'South Carolina', 'LA': 'Louisiana', 'KS': 'Kansas', 'NY': 'New York', \n",
    "          'NE': 'Nebraska', 'OK': 'Oklahoma', 'FL': 'Florida', 'CA': 'California', 'CO': 'Colorado', 'PA': 'Pennsylvania', \n",
    "          'DE': 'Delaware', 'NM': 'New Mexico', 'RI': 'Rhode Island', 'MN': 'Minnesota', 'VI': 'Virgin Islands', \n",
    "          'NH': 'New Hampshire', 'MA': 'Massachusetts', 'GA': 'Georgia', 'ND': 'North Dakota', 'VA': 'Virginia'}"
   ]
  },
  {
   "cell_type": "code",
   "execution_count": 34,
   "metadata": {},
   "outputs": [],
   "source": [
    "def loadZillowData():\n",
    "    '''Converts the housing data to quarters and returns it as mean \n",
    "    values in a dataframe. This dataframe will be a dataframe with\n",
    "    columns for 2000q1 through 2016q3, and will have a multi-index\n",
    "    in the shape of [\"State\",\"RegionName\"].\n",
    "    '''\n",
    "    zillow_df = pd.read_csv('City_Zhvi_AllHomes.csv')\n",
    "    zillow_df['State'].replace(states,inplace=True)\n",
    "    zillow_df.set_index([\"State\",\"RegionName\"],inplace=True)\n",
    "    zillow_df = zillow_df.iloc[:,49:]\n",
    "    def grouping(colName):\n",
    "        if colName[-2:] in ['01','02','03']:\n",
    "            q_of_year = colName[:4]+'q1'\n",
    "        elif colName[-2:] in ['04','05','06']:\n",
    "            q_of_year = colName[:4]+'q2'\n",
    "        elif colName[-2:] in ['07','08','09']:\n",
    "            q_of_year = colName[:4]+'q3'\n",
    "        else:\n",
    "            q_of_year = colName[:4]+'q4'   \n",
    "        return q_of_year   \n",
    "    zillow_df_grp=zillow_df.groupby(grouping,axis=1)   \n",
    "    zillow_df_final=zillow_df_grp.mean().sort_index().copy()\n",
    "    \n",
    "    return zillow_df_final"
   ]
  },
  {
   "cell_type": "code",
   "execution_count": 35,
   "metadata": {
    "umich_part_id": "021",
    "umich_partlist_id": "004"
   },
   "outputs": [],
   "source": [
    "def loadUniversityRegions():\n",
    "    '''Returns a DataFrame of towns and the states they are in from the \n",
    "    university_towns.txt list.'''\n",
    "    \n",
    "    university_df_original = pd.read_csv('university_towns.txt', sep = \"\\t\", names=(['Compound']), index_col=False)\n",
    "    \n",
    "    def cleanUniversity(row): #Cleaning\n",
    "        row['Compound'] =  re.sub('\\s\\(.*\\)\\[.*\\]', '', row['Compound'])\n",
    "        row['Compound'] =  re.sub('\\s\\(.*\\)*', '', row['Compound'])\n",
    "        row['Compound'] =  re.sub('.*:', '', row['Compound'])\n",
    "        return pd.Series(row)  \n",
    "    university_df_original=university_df_original.apply(cleanUniversity,axis=1)\n",
    "    state_df=university_df_original[university_df_original['Compound'].str.contains(pat='\\[edit]')]\n",
    "    university_df = pd.DataFrame(columns=('State', 'RegionName'))\n",
    "    \n",
    "    for i in range(len(state_df)):\n",
    "        stateCurrIdx = state_df.index[i]\n",
    "        if i != len(state_df)-1:\n",
    "            stateNextIdx = state_df.index[i+1]\n",
    "        else:\n",
    "            stateNextIdx = len(university_df_original)\n",
    "        \n",
    "        for j in range(stateCurrIdx+1, stateNextIdx):\n",
    "            university_df.loc[j] = [state_df.loc[stateCurrIdx]['Compound'],university_df_original.loc[j]['Compound']]\n",
    "            \n",
    "    university_df['State']=university_df.apply(lambda x: re.sub('\\[.*\\]', '', x['State']), axis=1)\n",
    "    university_df=university_df[university_df['RegionName']!='']\n",
    "    university_df.reset_index(drop=True,inplace=True)\n",
    "    \n",
    "    return university_df"
   ]
  },
  {
   "cell_type": "code",
   "execution_count": 36,
   "metadata": {},
   "outputs": [],
   "source": [
    "def getRecessionDetails():\n",
    "    gdp_df=pd.read_excel('gdplev.xls',header=1,skiprows=[1,2,3,4,6,7],usecols=['Unnamed: 4','GDP in billions of chained 2009 dollars.1'])\n",
    "    gdp_df.columns=['Quarter','GDP 2009 Chained']\n",
    "    gdp_df=gdp_df[gdp_df['Quarter']>='2000q1']\n",
    "    gdp_df.reset_index(drop=True,inplace=True)\n",
    "    \n",
    "    i=0\n",
    "    while(i<len(gdp_df)-2):\n",
    "        if ((gdp_df.loc[i+1,'GDP 2009 Chained'] < gdp_df.loc[i,'GDP 2009 Chained']) and\n",
    "        (gdp_df.loc[i+2,'GDP 2009 Chained'] < gdp_df.loc[i+1,'GDP 2009 Chained'])):\n",
    "            j=i\n",
    "            while(j+2 <= len(gdp_df)-1):\n",
    "                if ((gdp_df.loc[j+1,'GDP 2009 Chained'] > gdp_df.loc[j,'GDP 2009 Chained']) and\n",
    "                (gdp_df.loc[j+2,'GDP 2009 Chained'] > gdp_df.loc[j+1,'GDP 2009 Chained'])):\n",
    "                    start = gdp_df.loc[i+1,'Quarter']\n",
    "                    end = gdp_df.loc[j+2,'Quarter']\n",
    "                    recession_df = gdp_df.iloc[i+1:j+2 +1]\n",
    "                    bottom = gdp_df.loc[recession_df['GDP 2009 Chained'].idxmin(),'Quarter']\n",
    "                    i=j+1\n",
    "                    break      \n",
    "                else:\n",
    "                    j += 1\n",
    "        i+= 1 \n",
    "    return(start,bottom,end)"
   ]
  },
  {
   "cell_type": "code",
   "execution_count": 37,
   "metadata": {},
   "outputs": [],
   "source": [
    "def ttest_hypothesis():\n",
    "    '''First creates new data showing the decline or growth of housing prices\n",
    "    between the recession start and the recession bottom. Then runs a ttest\n",
    "    comparing the university town values to the non-university towns values, \n",
    "    return whether the alternative hypothesis (that the two groups are the same)\n",
    "    is true or not as well as the p-value of the confidence. \n",
    "    \n",
    "    different=True if the t-test is True at a p<0.01 (we reject the null hypothesis), \n",
    "    or different=False if otherwise (we cannot reject the null hypothesis). The\n",
    "    value for better should be either \"university town\" or \"non-university town\"\n",
    "    depending on which has a lower mean price ratio (which is equivilent to a\n",
    "    reduced market loss).'''\n",
    "    \n",
    "    recession_start = getRecessionDetails()[0]\n",
    "    recession_bottom = getRecessionDetails()[1]\n",
    "    zillow_data = loadZillowData().copy()\n",
    "    zillow_data.reset_index(inplace=True)\n",
    "    \n",
    "  \n",
    "    zillow_data['price_ratio'] = zillow_data.iloc[:,zillow_data.columns.get_loc(recession_start)-1]/zillow_data[recession_bottom]\n",
    "    zillow_data = zillow_data[['State','RegionName','price_ratio']].copy()\n",
    "    \n",
    "    university_towns_list=loadUniversityRegions()\n",
    "    university_towns=pd.merge(zillow_data,university_towns_list,how='inner', on=['State','RegionName'])\n",
    "    \n",
    "    non_university_towns=pd.concat([zillow_data,university_towns_list],sort=True).copy()\n",
    "    non_university_towns.drop_duplicates(['State','RegionName'], keep=False, inplace=True)\n",
    "    non_university_towns.set_index(['State','RegionName'], inplace=True)\n",
    "    non_university_towns.reset_index(inplace=True)  \n",
    "    \n",
    "    t, p = ttest_ind(university_towns['price_ratio'].dropna(), non_university_towns['price_ratio'].dropna())   \n",
    "    \n",
    "    critical_aplha=0.01\n",
    "    if critical_aplha > p:\n",
    "        difference =True #null_hypothesis = False \n",
    "    else:\n",
    "        difference =False #null_hypothesis = True \n",
    "\n",
    "    if university_towns['price_ratio'].mean() < non_university_towns['price_ratio'].mean(): \n",
    "        better = \"university town\"\n",
    "    else:\n",
    "        better = \"non-university town\"\n",
    "    return (difference, p, better)"
   ]
  },
  {
   "cell_type": "code",
   "execution_count": 38,
   "metadata": {},
   "outputs": [
    {
     "data": {
      "text/plain": [
       "(True, 0.0007376888577938637, 'university town')"
      ]
     },
     "execution_count": 38,
     "metadata": {},
     "output_type": "execute_result"
    }
   ],
   "source": [
    "ttest_hypothesis()"
   ]
  }
 ],
 "metadata": {
  "coursera": {
   "course_slug": "python-data-analysis",
   "graded_item_id": "Il9Fx",
   "launcher_item_id": "TeDW0",
   "part_id": "WGlun"
  },
  "kernelspec": {
   "display_name": "Python 3",
   "language": "python",
   "name": "python3"
  },
  "language_info": {
   "codemirror_mode": {
    "name": "ipython",
    "version": 3
   },
   "file_extension": ".py",
   "mimetype": "text/x-python",
   "name": "python",
   "nbconvert_exporter": "python",
   "pygments_lexer": "ipython3",
   "version": "3.7.4"
  },
  "umich": {
   "id": "Assignment 4",
   "version": "1.1"
  }
 },
 "nbformat": 4,
 "nbformat_minor": 1
}
